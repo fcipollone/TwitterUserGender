{
 "cells": [
  {
   "cell_type": "code",
   "execution_count": 1,
   "metadata": {
    "collapsed": true
   },
   "outputs": [],
   "source": [
    "import pandas as pd\n",
    "import numpy as np"
   ]
  },
  {
   "cell_type": "code",
   "execution_count": 2,
   "metadata": {},
   "outputs": [
    {
     "data": {
      "text/plain": [
       "Index(['_unit_id', '_golden', '_unit_state', '_trusted_judgments',\n",
       "       '_last_judgment_at', 'gender', 'gender:confidence', 'profile_yn',\n",
       "       'profile_yn:confidence', 'created', 'description', 'fav_number',\n",
       "       'gender_gold', 'link_color', 'name', 'profile_yn_gold', 'profileimage',\n",
       "       'retweet_count', 'sidebar_color', 'text', 'tweet_coord', 'tweet_count',\n",
       "       'tweet_created', 'tweet_id', 'tweet_location', 'user_timezone'],\n",
       "      dtype='object')"
      ]
     },
     "execution_count": 2,
     "metadata": {},
     "output_type": "execute_result"
    }
   ],
   "source": [
    "df = pd.read_csv('gender-classifier-DFE-791531.csv', sep=',',encoding='latin-1')\n",
    "\n",
    "np.random.seed(0)\n",
    "msk = np.random.rand(len(df)) < 0.8\n",
    "train = df[msk]\n",
    "test = df[~msk]\n",
    "\n",
    "train.columns\n",
    "# created\n",
    "# description\n",
    "# fav_number\n",
    "# link_color? \n",
    "# name\n",
    "# profileimage\n",
    "# sidebar_color\n",
    "# text\n",
    "# tweet_count"
   ]
  },
  {
   "cell_type": "markdown",
   "metadata": {},
   "source": [
    "# Data Transformations"
   ]
  },
  {
   "cell_type": "code",
   "execution_count": 3,
   "metadata": {},
   "outputs": [
    {
     "name": "stdout",
     "output_type": "stream",
     "text": [
      "['brand' 'female' 'male' 'nan' 'unknown']\n",
      "[0 1]\n",
      "(10320, 26)\n"
     ]
    }
   ],
   "source": [
    "# DROP NON MALE / FEMALE\n",
    "genders = list(train.gender)\n",
    "print(np.unique(genders))\n",
    "train_drop = train[train.gender.notnull()]\n",
    "train_drop = train_drop[train_drop.gender != 'brand']\n",
    "train_drop = train_drop[train_drop.gender != 'unknown']\n",
    "train_drop.loc[train_drop.gender == 'female', 'gender'] = 0 \n",
    "train_drop.loc[train_drop.gender == 'male', 'gender'] = 1 \n",
    "train_drop.shape\n",
    "genders = list(train_drop.gender)\n",
    "train = train_drop\n",
    "print(np.unique(genders))\n",
    "print(train_drop.shape)"
   ]
  },
  {
   "cell_type": "code",
   "execution_count": 4,
   "metadata": {
    "collapsed": true
   },
   "outputs": [],
   "source": [
    "# CHANGE ACCOUNT CREATION DATE TO TIME SINCE CREATION\n",
    "import datetime\n",
    "def get_length(s):\n",
    "    year = s.split('/')[2]\n",
    "    month = s.split('/')[0]\n",
    "    day = s.split('/')[1]\n",
    "    return datetime.date(17, 10, 1) - datetime.date(int(year), int(month), int(day))\n",
    "created = train.created\n",
    "created = [el.split()[0] for el in created]\n",
    "c = [get_length(s) for s in created]\n",
    "months = [el.days/30 for el in c]\n",
    "train.created = months"
   ]
  },
  {
   "cell_type": "code",
   "execution_count": 5,
   "metadata": {
    "collapsed": true
   },
   "outputs": [],
   "source": [
    "# Validation Set\n",
    "np.random.seed(1)\n",
    "msk = np.random.rand(len(train)) < 0.8\n",
    "validation = train[~msk]\n",
    "train = train[msk]\n"
   ]
  },
  {
   "cell_type": "markdown",
   "metadata": {},
   "source": [
    "# Binary Classification"
   ]
  },
  {
   "cell_type": "code",
   "execution_count": 6,
   "metadata": {
    "collapsed": true
   },
   "outputs": [],
   "source": [
    "# First pass\n",
    "first_pass_X_train = train.filter(['created', 'fav_number'],axis=1)\n",
    "first_pass_y_train = list(train.gender)\n",
    "\n",
    "first_pass_X_val = validation.filter(['created', 'fav_number'],axis=1)\n",
    "first_pass_y_val = list(validation.gender)"
   ]
  },
  {
   "cell_type": "code",
   "execution_count": 7,
   "metadata": {
    "collapsed": true
   },
   "outputs": [],
   "source": [
    "import sklearn.linear_model\n",
    "first = sklearn.linear_model.LogisticRegression()\n",
    "first.fit(first_pass_X_train, first_pass_y_train)\n",
    "scores = first.predict_proba(first_pass_X_val)"
   ]
  },
  {
   "cell_type": "code",
   "execution_count": 8,
   "metadata": {},
   "outputs": [
    {
     "name": "stdout",
     "output_type": "stream",
     "text": [
      "0.5551338905\n"
     ]
    },
    {
     "data": {
      "image/png": "[encoded data removed]",
      "text/plain": [
       "<matplotlib.figure.Figure at 0x114454b38>"
      ]
     },
     "metadata": {},
     "output_type": "display_data"
    }
   ],
   "source": [
    "from sklearn import metrics\n",
    "fpr, tpr, thresholds = metrics.roc_curve(first_pass_y_val, scores[:,1])\n",
    "%matplotlib inline\n",
    "import matplotlib.pyplot as plt\n",
    "plt.plot(fpr, tpr)\n",
    "print (metrics.roc_auc_score(first_pass_y_val, scores[:,1]))"
   ]
  },
  {
   "cell_type": "markdown",
   "metadata": {},
   "source": [
    "# Adding in the categorical variables"
   ]
  },
  {
   "cell_type": "code",
   "execution_count": 9,
   "metadata": {
    "collapsed": true
   },
   "outputs": [],
   "source": [
    "X_train = train.filter(['created',  'fav_number'],axis=1)\n",
    "y_train = list(train.gender)\n",
    "\n",
    "X_val = validation.filter(['created',  'fav_number'],axis=1)\n",
    "y_val = list(validation.gender)\n",
    "\n",
    "X_train.reset_index(drop=True, inplace=True)\n",
    "X_val.reset_index(drop=True, inplace=True)"
   ]
  },
  {
   "cell_type": "code",
   "execution_count": 10,
   "metadata": {},
   "outputs": [
    {
     "name": "stdout",
     "output_type": "stream",
     "text": [
      "(8297, 2) (8297, 342) (8297, 1733)\n",
      "(2023, 2) (2023, 342) (2023, 1733)\n",
      "(8297, 2077)\n",
      "(2023, 2077)\n"
     ]
    }
   ],
   "source": [
    "categories = np.union1d(train.sidebar_color, validation.sidebar_color)\n",
    "train_side = train.sidebar_color.astype('category', categories=categories)\n",
    "val_side = validation.sidebar_color.astype('category', categories=categories)\n",
    "\n",
    "sidebar_color = pd.get_dummies(train_side)\n",
    "sidebar_color_val = pd.get_dummies(val_side)\n",
    "\n",
    "categories = np.union1d(train.link_color, validation.link_color)\n",
    "train_link = train.link_color.astype('category', categories=categories)\n",
    "val_link = validation.link_color.astype('category', categories=categories)\n",
    "\n",
    "dummies_link = pd.get_dummies(train_link)\n",
    "dummies_link_val = pd.get_dummies(val_link)\n",
    "\n",
    "print(X_train.shape, sidebar_color.shape, dummies_link.shape)\n",
    "print(X_val.shape, sidebar_color_val.shape, dummies_link_val.shape)\n",
    "\n",
    "X_train.reset_index(drop=True, inplace=True)\n",
    "X_val.reset_index(drop=True, inplace=True)\n",
    "sidebar_color.reset_index(drop=True, inplace=True)\n",
    "sidebar_color_val.reset_index(drop=True, inplace=True)\n",
    "dummies_link.reset_index(drop=True, inplace=True)\n",
    "dummies_link_val.reset_index(drop=True, inplace=True)\n",
    "\n",
    "X_train = pd.concat([X_train, sidebar_color, dummies_link],axis=1, ignore_index=True)\n",
    "X_val = pd.concat([X_val, sidebar_color_val, dummies_link_val],axis=1, ignore_index=True)\n",
    "\n",
    "print(X_train.shape)\n",
    "print(X_val.shape)"
   ]
  },
  {
   "cell_type": "code",
   "execution_count": 11,
   "metadata": {},
   "outputs": [
    {
     "name": "stdout",
     "output_type": "stream",
     "text": [
      "0.654523987367\n"
     ]
    },
    {
     "data": {
      "image/png": "[encoded data removed]",
      "text/plain": [
       "<matplotlib.figure.Figure at 0x11457a208>"
      ]
     },
     "metadata": {},
     "output_type": "display_data"
    }
   ],
   "source": [
    "second = sklearn.linear_model.LogisticRegression()\n",
    "second.fit(X_train,y_train)\n",
    "scores = second.predict_proba(X_val)\n",
    "fpr, tpr, thresholds = metrics.roc_curve(y_val, scores[:,1])\n",
    "%matplotlib inline\n",
    "import matplotlib.pyplot as plt\n",
    "plt.plot(fpr, tpr)\n",
    "print (metrics.roc_auc_score(y_val, scores[:,1]))"
   ]
  },
  {
   "cell_type": "markdown",
   "metadata": {},
   "source": [
    "# Adding Text based features"
   ]
  },
  {
   "cell_type": "code",
   "execution_count": 12,
   "metadata": {},
   "outputs": [
    {
     "data": {
      "text/plain": [
       "(8297, 2137)"
      ]
     },
     "execution_count": 12,
     "metadata": {},
     "output_type": "execute_result"
    }
   ],
   "source": [
    "import sklearn.feature_extraction\n",
    "tdidf = sklearn.feature_extraction.text.TfidfVectorizer()\n",
    "tdidf.max_features = 60\n",
    "texts = list(df.text)\n",
    "tdidf.fit(texts)\n",
    "texts_train = tdidf.fit_transform(train.text)\n",
    "texts_val = tdidf.fit_transform(validation.text)\n",
    "tdidf_train = pd.DataFrame(texts_train.toarray(), columns=tdidf.get_feature_names())\n",
    "tdidf_val = pd.DataFrame(texts_val.toarray(), columns=tdidf.get_feature_names())\n",
    "\n",
    "\n",
    "X_train.reset_index(drop=True, inplace=True)\n",
    "tdidf_train.reset_index(drop=True, inplace=True)\n",
    "X_val.reset_index(drop=True, inplace=True)\n",
    "tdidf_val.reset_index(drop=True, inplace=True)\n",
    "\n",
    "X_train = pd.concat([X_train, tdidf_train],axis=1, ignore_index=True)\n",
    "X_val = pd.concat([X_val, tdidf_val],axis=1, ignore_index=True)\n",
    "\n",
    "X_train.shape"
   ]
  },
  {
   "cell_type": "code",
   "execution_count": 13,
   "metadata": {},
   "outputs": [
    {
     "name": "stdout",
     "output_type": "stream",
     "text": [
      "0.666721559909\n"
     ]
    },
    {
     "data": {
      "image/png": "[encoded data removed]",
      "text/plain": [
       "<matplotlib.figure.Figure at 0x11455f9e8>"
      ]
     },
     "metadata": {},
     "output_type": "display_data"
    }
   ],
   "source": [
    "second = sklearn.linear_model.LogisticRegression()\n",
    "second.fit(X_train,y_train)\n",
    "scores = second.predict_proba(X_val)\n",
    "fpr, tpr, thresholds = metrics.roc_curve(y_val, scores[:,1])\n",
    "%matplotlib inline\n",
    "import matplotlib.pyplot as plt\n",
    "plt.plot(fpr, tpr)\n",
    "print (metrics.roc_auc_score(y_val, scores[:,1]))"
   ]
  },
  {
   "cell_type": "markdown",
   "metadata": {},
   "source": [
    "# Adding Username Features"
   ]
  },
  {
   "cell_type": "code",
   "execution_count": 14,
   "metadata": {
    "collapsed": true
   },
   "outputs": [],
   "source": [
    "def n_grams(s):\n",
    "    left = 0\n",
    "    right = 0 + 5\n",
    "    r = []\n",
    "    while right < len(s):\n",
    "        r.append(s[left:right])\n",
    "        left += 1\n",
    "        right += 1\n",
    "    return \" \".join(r)"
   ]
  },
  {
   "cell_type": "code",
   "execution_count": 15,
   "metadata": {},
   "outputs": [
    {
     "data": {
      "text/plain": [
       "(8297, 2237)"
      ]
     },
     "execution_count": 15,
     "metadata": {},
     "output_type": "execute_result"
    }
   ],
   "source": [
    "import sklearn.feature_extraction\n",
    "tdidf = sklearn.feature_extraction.text.TfidfVectorizer()\n",
    "tdidf.max_features = 100\n",
    "names = [n_grams(s) for s in list(df.name)]\n",
    "tdidf.fit(names)\n",
    "names_train = tdidf.fit_transform([n_grams(s) for s in train.name])\n",
    "names_val = tdidf.fit_transform([n_grams(s) for s in validation.name])\n",
    "tdidf_train = pd.DataFrame(names_train.toarray(), columns=tdidf.get_feature_names())\n",
    "tdidf_val = pd.DataFrame(names_val.toarray(), columns=tdidf.get_feature_names())\n",
    "\n",
    "\n",
    "X_train.reset_index(drop=True, inplace=True)\n",
    "tdidf_train.reset_index(drop=True, inplace=True)\n",
    "X_val.reset_index(drop=True, inplace=True)\n",
    "tdidf_val.reset_index(drop=True, inplace=True)\n",
    "\n",
    "X_train = pd.concat([X_train, tdidf_train],axis=1, ignore_index=True)\n",
    "X_val = pd.concat([X_val, tdidf_val],axis=1, ignore_index=True)\n",
    "\n",
    "X_train.shape"
   ]
  },
  {
   "cell_type": "code",
   "execution_count": 16,
   "metadata": {},
   "outputs": [
    {
     "name": "stdout",
     "output_type": "stream",
     "text": [
      "0.669483866288\n"
     ]
    },
    {
     "data": {
      "image/png": "[encoded data removed]",
      "text/plain": [
       "<matplotlib.figure.Figure at 0x114650240>"
      ]
     },
     "metadata": {},
     "output_type": "display_data"
    }
   ],
   "source": [
    "third = sklearn.linear_model.LogisticRegression()\n",
    "third.fit(X_train,y_train)\n",
    "scores = third.predict_proba(X_val)\n",
    "fpr, tpr, thresholds = metrics.roc_curve(y_val, scores[:,1])\n",
    "%matplotlib inline\n",
    "import matplotlib.pyplot as plt\n",
    "plt.plot(fpr, tpr)\n",
    "print (metrics.roc_auc_score(y_val, scores[:,1]))"
   ]
  },
  {
   "cell_type": "markdown",
   "metadata": {
    "collapsed": true
   },
   "source": [
    "# Continuous"
   ]
  },
  {
   "cell_type": "code",
   "execution_count": 17,
   "metadata": {},
   "outputs": [
    {
     "data": {
      "text/plain": [
       "'\\ntg = train.gender\\nvg = validation.gender\\nX_train.reset_index(drop=True, inplace=True)\\ntg.reset_index(drop=True, inplace=True)\\nX_val.reset_index(drop=True, inplace=True)\\nvg.reset_index(drop=True, inplace=True)\\n\\nX_train = pd.concat([X_train, tg],axis=1, ignore_index=True)\\nX_val = pd.concat([X_val, vg],axis=1, ignore_index=True)\\n'"
      ]
     },
     "execution_count": 17,
     "metadata": {},
     "output_type": "execute_result"
    }
   ],
   "source": [
    "'''\n",
    "tg = train.gender\n",
    "vg = validation.gender\n",
    "X_train.reset_index(drop=True, inplace=True)\n",
    "tg.reset_index(drop=True, inplace=True)\n",
    "X_val.reset_index(drop=True, inplace=True)\n",
    "vg.reset_index(drop=True, inplace=True)\n",
    "\n",
    "X_train = pd.concat([X_train, tg],axis=1, ignore_index=True)\n",
    "X_val = pd.concat([X_val, vg],axis=1, ignore_index=True)\n",
    "'''"
   ]
  },
  {
   "cell_type": "code",
   "execution_count": 18,
   "metadata": {
    "collapsed": true
   },
   "outputs": [],
   "source": [
    "y_train = train.filter(['tweet_count'])\n",
    "y_val = validation.filter(['tweet_count'])"
   ]
  },
  {
   "cell_type": "code",
   "execution_count": 19,
   "metadata": {
    "collapsed": true
   },
   "outputs": [],
   "source": [
    "#X_train = train.filter(['created'])\n",
    "#X_val = validation.filter(['created'])"
   ]
  },
  {
   "cell_type": "code",
   "execution_count": 23,
   "metadata": {},
   "outputs": [
    {
     "name": "stdout",
     "output_type": "stream",
     "text": [
      "0.0908441673219\n",
      "6459908217.66\n",
      "6872329920.71\n"
     ]
    }
   ],
   "source": [
    "import sklearn.neural_network\n",
    "third = sklearn.linear_model.Ridge(alpha=100)\n",
    "third.fit(X_train,y_train)\n",
    "\n",
    "print(third.score(X_train,y_train))\n",
    "\n",
    "scores = third.predict(X_val)\n",
    "\n",
    "print (metrics.mean_squared_error(y_val, scores))\n",
    "print (metrics.mean_squared_error(y_val, [np.mean(y_val) for i in range(len(y_val))]))"
   ]
  },
  {
   "cell_type": "code",
   "execution_count": 21,
   "metadata": {},
   "outputs": [
    {
     "data": {
      "text/html": [
       "<div>\n",
       "<style>\n",
       "    .dataframe thead tr:only-child th {\n",
       "        text-align: right;\n",
       "    }\n",
       "\n",
       "    .dataframe thead th {\n",
       "        text-align: left;\n",
       "    }\n",
       "\n",
       "    .dataframe tbody tr th {\n",
       "        vertical-align: top;\n",
       "    }\n",
       "</style>\n",
       "<table border=\"1\" class=\"dataframe\">\n",
       "  <thead>\n",
       "    <tr style=\"text-align: right;\">\n",
       "      <th></th>\n",
       "      <th>tweet_count</th>\n",
       "    </tr>\n",
       "  </thead>\n",
       "  <tbody>\n",
       "    <tr>\n",
       "      <th>0</th>\n",
       "      <td>110964</td>\n",
       "    </tr>\n",
       "    <tr>\n",
       "      <th>1</th>\n",
       "      <td>7471</td>\n",
       "    </tr>\n",
       "    <tr>\n",
       "      <th>2</th>\n",
       "      <td>5617</td>\n",
       "    </tr>\n",
       "    <tr>\n",
       "      <th>3</th>\n",
       "      <td>1693</td>\n",
       "    </tr>\n",
       "    <tr>\n",
       "      <th>4</th>\n",
       "      <td>31462</td>\n",
       "    </tr>\n",
       "    <tr>\n",
       "      <th>5</th>\n",
       "      <td>20036</td>\n",
       "    </tr>\n",
       "    <tr>\n",
       "      <th>9</th>\n",
       "      <td>26085</td>\n",
       "    </tr>\n",
       "    <tr>\n",
       "      <th>12</th>\n",
       "      <td>13585</td>\n",
       "    </tr>\n",
       "    <tr>\n",
       "      <th>14</th>\n",
       "      <td>18469</td>\n",
       "    </tr>\n",
       "    <tr>\n",
       "      <th>15</th>\n",
       "      <td>44421</td>\n",
       "    </tr>\n",
       "    <tr>\n",
       "      <th>16</th>\n",
       "      <td>16627</td>\n",
       "    </tr>\n",
       "    <tr>\n",
       "      <th>18</th>\n",
       "      <td>13</td>\n",
       "    </tr>\n",
       "    <tr>\n",
       "      <th>21</th>\n",
       "      <td>13452</td>\n",
       "    </tr>\n",
       "    <tr>\n",
       "      <th>23</th>\n",
       "      <td>2219</td>\n",
       "    </tr>\n",
       "    <tr>\n",
       "      <th>24</th>\n",
       "      <td>3370</td>\n",
       "    </tr>\n",
       "    <tr>\n",
       "      <th>25</th>\n",
       "      <td>97</td>\n",
       "    </tr>\n",
       "    <tr>\n",
       "      <th>28</th>\n",
       "      <td>61166</td>\n",
       "    </tr>\n",
       "    <tr>\n",
       "      <th>29</th>\n",
       "      <td>55751</td>\n",
       "    </tr>\n",
       "    <tr>\n",
       "      <th>31</th>\n",
       "      <td>25773</td>\n",
       "    </tr>\n",
       "    <tr>\n",
       "      <th>35</th>\n",
       "      <td>30294</td>\n",
       "    </tr>\n",
       "    <tr>\n",
       "      <th>37</th>\n",
       "      <td>58876</td>\n",
       "    </tr>\n",
       "    <tr>\n",
       "      <th>43</th>\n",
       "      <td>6394</td>\n",
       "    </tr>\n",
       "    <tr>\n",
       "      <th>44</th>\n",
       "      <td>2856</td>\n",
       "    </tr>\n",
       "    <tr>\n",
       "      <th>45</th>\n",
       "      <td>73578</td>\n",
       "    </tr>\n",
       "    <tr>\n",
       "      <th>47</th>\n",
       "      <td>37982</td>\n",
       "    </tr>\n",
       "    <tr>\n",
       "      <th>48</th>\n",
       "      <td>1829</td>\n",
       "    </tr>\n",
       "    <tr>\n",
       "      <th>51</th>\n",
       "      <td>142495</td>\n",
       "    </tr>\n",
       "    <tr>\n",
       "      <th>53</th>\n",
       "      <td>9071</td>\n",
       "    </tr>\n",
       "    <tr>\n",
       "      <th>54</th>\n",
       "      <td>5222</td>\n",
       "    </tr>\n",
       "    <tr>\n",
       "      <th>55</th>\n",
       "      <td>42573</td>\n",
       "    </tr>\n",
       "    <tr>\n",
       "      <th>...</th>\n",
       "      <td>...</td>\n",
       "    </tr>\n",
       "    <tr>\n",
       "      <th>19990</th>\n",
       "      <td>32765</td>\n",
       "    </tr>\n",
       "    <tr>\n",
       "      <th>19992</th>\n",
       "      <td>4025</td>\n",
       "    </tr>\n",
       "    <tr>\n",
       "      <th>19993</th>\n",
       "      <td>4253</td>\n",
       "    </tr>\n",
       "    <tr>\n",
       "      <th>19995</th>\n",
       "      <td>29190</td>\n",
       "    </tr>\n",
       "    <tr>\n",
       "      <th>19996</th>\n",
       "      <td>11117</td>\n",
       "    </tr>\n",
       "    <tr>\n",
       "      <th>19998</th>\n",
       "      <td>2041</td>\n",
       "    </tr>\n",
       "    <tr>\n",
       "      <th>20000</th>\n",
       "      <td>3874</td>\n",
       "    </tr>\n",
       "    <tr>\n",
       "      <th>20005</th>\n",
       "      <td>2579</td>\n",
       "    </tr>\n",
       "    <tr>\n",
       "      <th>20008</th>\n",
       "      <td>11318</td>\n",
       "    </tr>\n",
       "    <tr>\n",
       "      <th>20013</th>\n",
       "      <td>11286</td>\n",
       "    </tr>\n",
       "    <tr>\n",
       "      <th>20014</th>\n",
       "      <td>13886</td>\n",
       "    </tr>\n",
       "    <tr>\n",
       "      <th>20015</th>\n",
       "      <td>2435</td>\n",
       "    </tr>\n",
       "    <tr>\n",
       "      <th>20018</th>\n",
       "      <td>7850</td>\n",
       "    </tr>\n",
       "    <tr>\n",
       "      <th>20019</th>\n",
       "      <td>64374</td>\n",
       "    </tr>\n",
       "    <tr>\n",
       "      <th>20021</th>\n",
       "      <td>74267</td>\n",
       "    </tr>\n",
       "    <tr>\n",
       "      <th>20022</th>\n",
       "      <td>2826</td>\n",
       "    </tr>\n",
       "    <tr>\n",
       "      <th>20023</th>\n",
       "      <td>5</td>\n",
       "    </tr>\n",
       "    <tr>\n",
       "      <th>20026</th>\n",
       "      <td>5005</td>\n",
       "    </tr>\n",
       "    <tr>\n",
       "      <th>20027</th>\n",
       "      <td>1385</td>\n",
       "    </tr>\n",
       "    <tr>\n",
       "      <th>20028</th>\n",
       "      <td>1162</td>\n",
       "    </tr>\n",
       "    <tr>\n",
       "      <th>20031</th>\n",
       "      <td>590</td>\n",
       "    </tr>\n",
       "    <tr>\n",
       "      <th>20033</th>\n",
       "      <td>5284</td>\n",
       "    </tr>\n",
       "    <tr>\n",
       "      <th>20035</th>\n",
       "      <td>7004</td>\n",
       "    </tr>\n",
       "    <tr>\n",
       "      <th>20037</th>\n",
       "      <td>9092</td>\n",
       "    </tr>\n",
       "    <tr>\n",
       "      <th>20039</th>\n",
       "      <td>2034</td>\n",
       "    </tr>\n",
       "    <tr>\n",
       "      <th>20044</th>\n",
       "      <td>6669</td>\n",
       "    </tr>\n",
       "    <tr>\n",
       "      <th>20045</th>\n",
       "      <td>783</td>\n",
       "    </tr>\n",
       "    <tr>\n",
       "      <th>20046</th>\n",
       "      <td>13523</td>\n",
       "    </tr>\n",
       "    <tr>\n",
       "      <th>20048</th>\n",
       "      <td>56073</td>\n",
       "    </tr>\n",
       "    <tr>\n",
       "      <th>20049</th>\n",
       "      <td>2922</td>\n",
       "    </tr>\n",
       "  </tbody>\n",
       "</table>\n",
       "<p>8297 rows × 1 columns</p>\n",
       "</div>"
      ],
      "text/plain": [
       "       tweet_count\n",
       "0           110964\n",
       "1             7471\n",
       "2             5617\n",
       "3             1693\n",
       "4            31462\n",
       "5            20036\n",
       "9            26085\n",
       "12           13585\n",
       "14           18469\n",
       "15           44421\n",
       "16           16627\n",
       "18              13\n",
       "21           13452\n",
       "23            2219\n",
       "24            3370\n",
       "25              97\n",
       "28           61166\n",
       "29           55751\n",
       "31           25773\n",
       "35           30294\n",
       "37           58876\n",
       "43            6394\n",
       "44            2856\n",
       "45           73578\n",
       "47           37982\n",
       "48            1829\n",
       "51          142495\n",
       "53            9071\n",
       "54            5222\n",
       "55           42573\n",
       "...            ...\n",
       "19990        32765\n",
       "19992         4025\n",
       "19993         4253\n",
       "19995        29190\n",
       "19996        11117\n",
       "19998         2041\n",
       "20000         3874\n",
       "20005         2579\n",
       "20008        11318\n",
       "20013        11286\n",
       "20014        13886\n",
       "20015         2435\n",
       "20018         7850\n",
       "20019        64374\n",
       "20021        74267\n",
       "20022         2826\n",
       "20023            5\n",
       "20026         5005\n",
       "20027         1385\n",
       "20028         1162\n",
       "20031          590\n",
       "20033         5284\n",
       "20035         7004\n",
       "20037         9092\n",
       "20039         2034\n",
       "20044         6669\n",
       "20045          783\n",
       "20046        13523\n",
       "20048        56073\n",
       "20049         2922\n",
       "\n",
       "[8297 rows x 1 columns]"
      ]
     },
     "execution_count": 21,
     "metadata": {},
     "output_type": "execute_result"
    }
   ],
   "source": [
    "y_train"
   ]
  },
  {
   "cell_type": "code",
   "execution_count": 22,
   "metadata": {},
   "outputs": [
    {
     "data": {
      "text/plain": [
       "array([[ 11675.46693824],\n",
       "       [ 31370.07264452],\n",
       "       [ 26714.23392736],\n",
       "       ..., \n",
       "       [ 44537.12090998],\n",
       "       [ 20121.429192  ],\n",
       "       [ 34062.15582769]])"
      ]
     },
     "execution_count": 22,
     "metadata": {},
     "output_type": "execute_result"
    }
   ],
   "source": [
    "third.predict(X_val)"
   ]
  },
  {
   "cell_type": "code",
   "execution_count": null,
   "metadata": {
    "collapsed": true
   },
   "outputs": [],
   "source": []
  }
 ],
 "metadata": {
  "kernelspec": {
   "display_name": "Python 3",
   "language": "python",
   "name": "python3"
  },
  "language_info": {
   "codemirror_mode": {
    "name": "ipython",
    "version": 3
   },
   "file_extension": ".py",
   "mimetype": "text/x-python",
   "name": "python",
   "nbconvert_exporter": "python",
   "pygments_lexer": "ipython3",
   "version": "3.6.1"
  }
 },
 "nbformat": 4,
 "nbformat_minor": 2
}
