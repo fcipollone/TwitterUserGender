{
 "cells": [
  {
   "cell_type": "code",
   "execution_count": 1,
   "metadata": {
    "collapsed": true
   },
   "outputs": [],
   "source": [
    "import pandas as pd\n",
    "import numpy as np"
   ]
  },
  {
   "cell_type": "code",
   "execution_count": 2,
   "metadata": {},
   "outputs": [
    {
     "data": {
      "text/plain": [
       "Index(['_unit_id', '_golden', '_unit_state', '_trusted_judgments',\n",
       "       '_last_judgment_at', 'gender', 'gender:confidence', 'profile_yn',\n",
       "       'profile_yn:confidence', 'created', 'description', 'fav_number',\n",
       "       'gender_gold', 'link_color', 'name', 'profile_yn_gold', 'profileimage',\n",
       "       'retweet_count', 'sidebar_color', 'text', 'tweet_coord', 'tweet_count',\n",
       "       'tweet_created', 'tweet_id', 'tweet_location', 'user_timezone'],\n",
       "      dtype='object')"
      ]
     },
     "execution_count": 2,
     "metadata": {},
     "output_type": "execute_result"
    }
   ],
   "source": [
    "df = pd.read_csv('gender-classifier-DFE-791531.csv', sep=',',encoding='latin-1')\n",
    "\n",
    "np.random.seed(0)\n",
    "msk = np.random.rand(len(df)) < 0.8\n",
    "train = df[msk]\n",
    "test = df[~msk]\n",
    "\n",
    "train.columns\n",
    "# created\n",
    "# description\n",
    "# fav_number\n",
    "# link_color? \n",
    "# name\n",
    "# profileimage\n",
    "# sidebar_color\n",
    "# text\n",
    "# tweet_count"
   ]
  },
  {
   "cell_type": "markdown",
   "metadata": {},
   "source": [
    "# Data Transformations"
   ]
  },
  {
   "cell_type": "code",
   "execution_count": 3,
   "metadata": {},
   "outputs": [
    {
     "name": "stdout",
     "output_type": "stream",
     "text": [
      "['brand' 'female' 'male' 'nan' 'unknown']\n",
      "['female' 'male']\n",
      "(10320, 26)\n"
     ]
    }
   ],
   "source": [
    "# DROP NON MALE / FEMALE\n",
    "genders = list(train.gender)\n",
    "print(np.unique(genders))\n",
    "train_drop = train[train.gender.notnull()]\n",
    "train_drop = train_drop[train_drop.gender != 'brand']\n",
    "train_drop = train_drop[train_drop.gender != 'unknown']\n",
    "train_drop.shape\n",
    "genders = list(train_drop.gender)\n",
    "train = train_drop\n",
    "print(np.unique(genders))\n",
    "print(train_drop.shape)"
   ]
  },
  {
   "cell_type": "code",
   "execution_count": 4,
   "metadata": {
    "collapsed": true
   },
   "outputs": [],
   "source": [
    "# CHANGE ACCOUNT CREATION DATE TO TIME SINCE CREATION\n",
    "import datetime\n",
    "def get_length(s):\n",
    "    year = s.split('/')[2]\n",
    "    month = s.split('/')[0]\n",
    "    day = s.split('/')[1]\n",
    "    return datetime.date(17, 10, 1) - datetime.date(int(year), int(month), int(day))\n",
    "created = train.created\n",
    "created = [el.split()[0] for el in created]\n",
    "c = [get_length(s) for s in created]\n",
    "months = [el.days/30 for el in c]\n",
    "train.created = months"
   ]
  },
  {
   "cell_type": "code",
   "execution_count": null,
   "metadata": {
    "collapsed": true
   },
   "outputs": [],
   "source": []
  }
 ],
 "metadata": {
  "kernelspec": {
   "display_name": "Python 3",
   "language": "python",
   "name": "python3"
  },
  "language_info": {
   "codemirror_mode": {
    "name": "ipython",
    "version": 3
   },
   "file_extension": ".py",
   "mimetype": "text/x-python",
   "name": "python",
   "nbconvert_exporter": "python",
   "pygments_lexer": "ipython3",
   "version": "3.6.1"
  }
 },
 "nbformat": 4,
 "nbformat_minor": 2
}
