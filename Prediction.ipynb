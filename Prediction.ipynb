{
 "cells": [
  {
   "cell_type": "code",
   "execution_count": 1,
   "metadata": {
    "collapsed": true
   },
   "outputs": [],
   "source": [
    "import pandas as pd\n",
    "import numpy as np"
   ]
  },
  {
   "cell_type": "code",
   "execution_count": 2,
   "metadata": {},
   "outputs": [
    {
     "data": {
      "text/plain": [
       "Index(['_unit_id', '_golden', '_unit_state', '_trusted_judgments',\n",
       "       '_last_judgment_at', 'gender', 'gender:confidence', 'profile_yn',\n",
       "       'profile_yn:confidence', 'created', 'description', 'fav_number',\n",
       "       'gender_gold', 'link_color', 'name', 'profile_yn_gold', 'profileimage',\n",
       "       'retweet_count', 'sidebar_color', 'text', 'tweet_coord', 'tweet_count',\n",
       "       'tweet_created', 'tweet_id', 'tweet_location', 'user_timezone'],\n",
       "      dtype='object')"
      ]
     },
     "execution_count": 2,
     "metadata": {},
     "output_type": "execute_result"
    }
   ],
   "source": [
    "df = pd.read_csv('gender-classifier-DFE-791531.csv', sep=',',encoding='latin-1')\n",
    "\n",
    "np.random.seed(0)\n",
    "msk = np.random.rand(len(df)) < 0.8\n",
    "train = df[msk]\n",
    "test = df[~msk]\n",
    "\n",
    "train.columns\n",
    "# created\n",
    "# description\n",
    "# fav_number\n",
    "# link_color? \n",
    "# name\n",
    "# profileimage\n",
    "# sidebar_color\n",
    "# text\n",
    "# tweet_count"
   ]
  },
  {
   "cell_type": "markdown",
   "metadata": {},
   "source": [
    "# Data Transformations"
   ]
  },
  {
   "cell_type": "code",
   "execution_count": 3,
   "metadata": {},
   "outputs": [
    {
     "name": "stdout",
     "output_type": "stream",
     "text": [
      "['brand' 'female' 'male' 'nan' 'unknown']\n",
      "[0 1]\n",
      "(10320, 26)\n"
     ]
    }
   ],
   "source": [
    "# DROP NON MALE / FEMALE\n",
    "genders = list(train.gender)\n",
    "print(np.unique(genders))\n",
    "train_drop = train[train.gender.notnull()]\n",
    "train_drop = train_drop[train_drop.gender != 'brand']\n",
    "train_drop = train_drop[train_drop.gender != 'unknown']\n",
    "train_drop.loc[train_drop.gender == 'female', 'gender'] = 0 \n",
    "train_drop.loc[train_drop.gender == 'male', 'gender'] = 1 \n",
    "train_drop.shape\n",
    "genders = list(train_drop.gender)\n",
    "train = train_drop\n",
    "print(np.unique(genders))\n",
    "print(train_drop.shape)"
   ]
  },
  {
   "cell_type": "code",
   "execution_count": 4,
   "metadata": {
    "collapsed": true
   },
   "outputs": [],
   "source": [
    "# CHANGE ACCOUNT CREATION DATE TO TIME SINCE CREATION\n",
    "import datetime\n",
    "def get_length(s):\n",
    "    year = s.split('/')[2]\n",
    "    month = s.split('/')[0]\n",
    "    day = s.split('/')[1]\n",
    "    return datetime.date(17, 10, 1) - datetime.date(int(year), int(month), int(day))\n",
    "created = train.created\n",
    "created = [el.split()[0] for el in created]\n",
    "c = [get_length(s) for s in created]\n",
    "months = [el.days/30 for el in c]\n",
    "train.created = months"
   ]
  },
  {
   "cell_type": "code",
   "execution_count": 5,
   "metadata": {
    "collapsed": true
   },
   "outputs": [],
   "source": [
    "# Validation Set\n",
    "np.random.seed(1)\n",
    "msk = np.random.rand(len(train)) < 0.8\n",
    "validation = train[~msk]\n",
    "train = train[msk]\n"
   ]
  },
  {
   "cell_type": "markdown",
   "metadata": {},
   "source": [
    "# Binary Classification"
   ]
  },
  {
   "cell_type": "code",
   "execution_count": 6,
   "metadata": {
    "collapsed": true
   },
   "outputs": [],
   "source": [
    "# First pass\n",
    "first_pass_X_train = train.filter(['created', 'fav_number', 'tweet_count'],axis=1)\n",
    "first_pass_y_train = list(train.gender)\n",
    "\n",
    "first_pass_X_val = validation.filter(['created', 'fav_number', 'tweet_count'],axis=1)\n",
    "first_pass_y_val = list(validation.gender)"
   ]
  },
  {
   "cell_type": "code",
   "execution_count": 7,
   "metadata": {
    "collapsed": true
   },
   "outputs": [],
   "source": [
    "import sklearn.linear_model\n",
    "first = sklearn.linear_model.LogisticRegression()\n",
    "first.fit(first_pass_X_train, first_pass_y_train)\n",
    "scores = first.predict_proba(first_pass_X_val)"
   ]
  },
  {
   "cell_type": "code",
   "execution_count": 8,
   "metadata": {},
   "outputs": [
    {
     "name": "stdout",
     "output_type": "stream",
     "text": [
      "0.556397905431\n"
     ]
    },
    {
     "data": {
      "image/png": "[encoded data removed]",
      "text/plain": [
       "<matplotlib.figure.Figure at 0x112339eb8>"
      ]
     },
     "metadata": {},
     "output_type": "display_data"
    }
   ],
   "source": [
    "from sklearn import metrics\n",
    "fpr, tpr, thresholds = metrics.roc_curve(first_pass_y_val, scores[:,1])\n",
    "%matplotlib inline\n",
    "import matplotlib.pyplot as plt\n",
    "plt.plot(fpr, tpr)\n",
    "print (metrics.roc_auc_score(first_pass_y_val, scores[:,1]))"
   ]
  },
  {
   "cell_type": "markdown",
   "metadata": {},
   "source": [
    "# Adding in the categorical variables"
   ]
  },
  {
   "cell_type": "code",
   "execution_count": 9,
   "metadata": {
    "collapsed": true
   },
   "outputs": [],
   "source": [
    "X_train = train.filter(['created', 'fav_number', 'tweet_count'],axis=1)\n",
    "y_train = list(train.gender)\n",
    "\n",
    "X_val = validation.filter(['created', 'fav_number', 'tweet_count'],axis=1)\n",
    "y_val = list(validation.gender)\n",
    "\n",
    "X_train.reset_index(drop=True, inplace=True)\n",
    "X_val.reset_index(drop=True, inplace=True)"
   ]
  },
  {
   "cell_type": "code",
   "execution_count": 10,
   "metadata": {},
   "outputs": [
    {
     "name": "stdout",
     "output_type": "stream",
     "text": [
      "(8297, 3) (8297, 342) (8297, 1733)\n",
      "(2023, 3) (2023, 342) (2023, 1733)\n",
      "(8297, 2078)\n",
      "(2023, 2078)\n"
     ]
    }
   ],
   "source": [
    "categories = np.union1d(train.sidebar_color, validation.sidebar_color)\n",
    "train_side = train.sidebar_color.astype('category', categories=categories)\n",
    "val_side = validation.sidebar_color.astype('category', categories=categories)\n",
    "\n",
    "sidebar_color = pd.get_dummies(train_side)\n",
    "sidebar_color_val = pd.get_dummies(val_side)\n",
    "\n",
    "categories = np.union1d(train.link_color, validation.link_color)\n",
    "train_link = train.link_color.astype('category', categories=categories)\n",
    "val_link = validation.link_color.astype('category', categories=categories)\n",
    "\n",
    "dummies_link = pd.get_dummies(train_link)\n",
    "dummies_link_val = pd.get_dummies(val_link)\n",
    "\n",
    "print(X_train.shape, sidebar_color.shape, dummies_link.shape)\n",
    "print(X_val.shape, sidebar_color_val.shape, dummies_link_val.shape)\n",
    "\n",
    "X_train.reset_index(drop=True, inplace=True)\n",
    "X_val.reset_index(drop=True, inplace=True)\n",
    "sidebar_color.reset_index(drop=True, inplace=True)\n",
    "sidebar_color_val.reset_index(drop=True, inplace=True)\n",
    "dummies_link.reset_index(drop=True, inplace=True)\n",
    "dummies_link_val.reset_index(drop=True, inplace=True)\n",
    "\n",
    "X_train = pd.concat([X_train, sidebar_color, dummies_link],axis=1, ignore_index=True)\n",
    "X_val = pd.concat([X_val, sidebar_color_val, dummies_link_val],axis=1, ignore_index=True)\n",
    "\n",
    "print(X_train.shape)\n",
    "print(X_val.shape)"
   ]
  },
  {
   "cell_type": "code",
   "execution_count": 11,
   "metadata": {},
   "outputs": [
    {
     "name": "stdout",
     "output_type": "stream",
     "text": [
      "0.62361075986\n"
     ]
    },
    {
     "data": {
      "image/png": "[encoded data removed]",
      "text/plain": [
       "<matplotlib.figure.Figure at 0x113b62588>"
      ]
     },
     "metadata": {},
     "output_type": "display_data"
    }
   ],
   "source": [
    "second = sklearn.linear_model.LogisticRegression()\n",
    "second.fit(X_train,y_train)\n",
    "scores = second.predict_proba(X_val)\n",
    "fpr, tpr, thresholds = metrics.roc_curve(y_val, scores[:,1])\n",
    "%matplotlib inline\n",
    "import matplotlib.pyplot as plt\n",
    "plt.plot(fpr, tpr)\n",
    "print (metrics.roc_auc_score(y_val, scores[:,1]))"
   ]
  },
  {
   "cell_type": "markdown",
   "metadata": {},
   "source": [
    "# Adding Text based features"
   ]
  },
  {
   "cell_type": "code",
   "execution_count": 12,
   "metadata": {},
   "outputs": [
    {
     "data": {
      "text/plain": [
       "(8297, 2138)"
      ]
     },
     "execution_count": 12,
     "metadata": {},
     "output_type": "execute_result"
    }
   ],
   "source": [
    "import sklearn.feature_extraction\n",
    "tdidf = sklearn.feature_extraction.text.TfidfVectorizer()\n",
    "tdidf.max_features = 60\n",
    "texts = list(df.text)\n",
    "tdidf.fit(texts)\n",
    "texts_train = tdidf.fit_transform(train.text)\n",
    "texts_val = tdidf.fit_transform(validation.text)\n",
    "tdidf_train = pd.DataFrame(texts_train.toarray(), columns=tdidf.get_feature_names())\n",
    "tdidf_val = pd.DataFrame(texts_val.toarray(), columns=tdidf.get_feature_names())\n",
    "\n",
    "\n",
    "X_train.reset_index(drop=True, inplace=True)\n",
    "tdidf_train.reset_index(drop=True, inplace=True)\n",
    "X_val.reset_index(drop=True, inplace=True)\n",
    "tdidf_val.reset_index(drop=True, inplace=True)\n",
    "\n",
    "X_train = pd.concat([X_train, tdidf_train],axis=1, ignore_index=True)\n",
    "X_val = pd.concat([X_val, tdidf_val],axis=1, ignore_index=True)\n",
    "\n",
    "X_train.shape"
   ]
  },
  {
   "cell_type": "code",
   "execution_count": 13,
   "metadata": {},
   "outputs": [
    {
     "name": "stdout",
     "output_type": "stream",
     "text": [
      "0.666294176807\n"
     ]
    },
    {
     "data": {
      "image/png": "[encoded data removed]",
      "text/plain": [
       "<matplotlib.figure.Figure at 0x117b70400>"
      ]
     },
     "metadata": {},
     "output_type": "display_data"
    }
   ],
   "source": [
    "second = sklearn.linear_model.LogisticRegression()\n",
    "second.fit(X_train,y_train)\n",
    "scores = second.predict_proba(X_val)\n",
    "fpr, tpr, thresholds = metrics.roc_curve(y_val, scores[:,1])\n",
    "%matplotlib inline\n",
    "import matplotlib.pyplot as plt\n",
    "plt.plot(fpr, tpr)\n",
    "print (metrics.roc_auc_score(y_val, scores[:,1]))"
   ]
  },
  {
   "cell_type": "markdown",
   "metadata": {},
   "source": [
    "# Adding Username Features"
   ]
  },
  {
   "cell_type": "code",
   "execution_count": 14,
   "metadata": {
    "collapsed": true
   },
   "outputs": [],
   "source": [
    "def n_grams(s):\n",
    "    left = 0\n",
    "    right = 0 + 5\n",
    "    r = []\n",
    "    while right < len(s):\n",
    "        r.append(s[left:right])\n",
    "        left += 1\n",
    "        right += 1\n",
    "    return \" \".join(r)"
   ]
  },
  {
   "cell_type": "code",
   "execution_count": 15,
   "metadata": {},
   "outputs": [
    {
     "data": {
      "text/plain": [
       "(8297, 2238)"
      ]
     },
     "execution_count": 15,
     "metadata": {},
     "output_type": "execute_result"
    }
   ],
   "source": [
    "import sklearn.feature_extraction\n",
    "tdidf = sklearn.feature_extraction.text.TfidfVectorizer()\n",
    "tdidf.max_features = 100\n",
    "names = [n_grams(s) for s in list(df.name)]\n",
    "tdidf.fit(names)\n",
    "names_train = tdidf.fit_transform([n_grams(s) for s in train.name])\n",
    "names_val = tdidf.fit_transform([n_grams(s) for s in validation.name])\n",
    "tdidf_train = pd.DataFrame(names_train.toarray(), columns=tdidf.get_feature_names())\n",
    "tdidf_val = pd.DataFrame(names_val.toarray(), columns=tdidf.get_feature_names())\n",
    "\n",
    "\n",
    "X_train.reset_index(drop=True, inplace=True)\n",
    "tdidf_train.reset_index(drop=True, inplace=True)\n",
    "X_val.reset_index(drop=True, inplace=True)\n",
    "tdidf_val.reset_index(drop=True, inplace=True)\n",
    "\n",
    "X_train = pd.concat([X_train, tdidf_train],axis=1, ignore_index=True)\n",
    "X_val = pd.concat([X_val, tdidf_val],axis=1, ignore_index=True)\n",
    "\n",
    "X_train.shape"
   ]
  },
  {
   "cell_type": "code",
   "execution_count": 16,
   "metadata": {},
   "outputs": [
    {
     "name": "stdout",
     "output_type": "stream",
     "text": [
      "0.668234064786\n"
     ]
    },
    {
     "data": {
      "image/png": "[encoded data removed]",
      "text/plain": [
       "<matplotlib.figure.Figure at 0x1105bb828>"
      ]
     },
     "metadata": {},
     "output_type": "display_data"
    }
   ],
   "source": [
    "third = sklearn.linear_model.LogisticRegression()\n",
    "third.fit(X_train,y_train)\n",
    "scores = third.predict_proba(X_val)\n",
    "fpr, tpr, thresholds = metrics.roc_curve(y_val, scores[:,1])\n",
    "%matplotlib inline\n",
    "import matplotlib.pyplot as plt\n",
    "plt.plot(fpr, tpr)\n",
    "print (metrics.roc_auc_score(y_val, scores[:,1]))"
   ]
  },
  {
   "cell_type": "code",
   "execution_count": null,
   "metadata": {
    "collapsed": true
   },
   "outputs": [],
   "source": []
  },
  {
   "cell_type": "code",
   "execution_count": null,
   "metadata": {
    "collapsed": true
   },
   "outputs": [],
   "source": []
  }
 ],
 "metadata": {
  "kernelspec": {
   "display_name": "Python 3",
   "language": "python",
   "name": "python3"
  },
  "language_info": {
   "codemirror_mode": {
    "name": "ipython",
    "version": 3
   },
   "file_extension": ".py",
   "mimetype": "text/x-python",
   "name": "python",
   "nbconvert_exporter": "python",
   "pygments_lexer": "ipython3",
   "version": "3.6.1"
  }
 },
 "nbformat": 4,
 "nbformat_minor": 2
}
