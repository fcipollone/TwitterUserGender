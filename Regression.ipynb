{
 "cells": [
  {
   "cell_type": "markdown",
   "metadata": {},
   "source": [
    "# This Notebook documents the Regression against Tweet Count\n",
    "\n",
    "We attempt to predict tweet count from the remainder of our features."
   ]
  },
  {
   "cell_type": "code",
   "execution_count": 1,
   "metadata": {
    "collapsed": true
   },
   "outputs": [],
   "source": [
    "import pandas as pd\n",
    "import numpy as np"
   ]
  },
  {
   "cell_type": "code",
   "execution_count": 2,
   "metadata": {},
   "outputs": [
    {
     "data": {
      "text/plain": [
       "Index(['_unit_id', '_golden', '_unit_state', '_trusted_judgments',\n",
       "       '_last_judgment_at', 'gender', 'gender:confidence', 'profile_yn',\n",
       "       'profile_yn:confidence', 'created', 'description', 'fav_number',\n",
       "       'gender_gold', 'link_color', 'name', 'profile_yn_gold', 'profileimage',\n",
       "       'retweet_count', 'sidebar_color', 'text', 'tweet_coord', 'tweet_count',\n",
       "       'tweet_created', 'tweet_id', 'tweet_location', 'user_timezone'],\n",
       "      dtype='object')"
      ]
     },
     "execution_count": 2,
     "metadata": {},
     "output_type": "execute_result"
    }
   ],
   "source": [
    "df = pd.read_csv('gender-classifier-DFE-791531.csv', sep=',',encoding='latin-1')\n",
    "\n",
    "np.random.seed(0)\n",
    "msk = np.random.rand(len(df)) < 0.8\n",
    "train = df[msk]\n",
    "test = df[~msk]\n",
    "\n",
    "train.columns\n",
    "# created\n",
    "# description\n",
    "# fav_number\n",
    "# link_color? \n",
    "# name\n",
    "# profileimage\n",
    "# sidebar_color\n",
    "# text\n",
    "# tweet_count"
   ]
  },
  {
   "cell_type": "markdown",
   "metadata": {},
   "source": [
    "# Data Transformations"
   ]
  },
  {
   "cell_type": "code",
   "execution_count": 3,
   "metadata": {},
   "outputs": [
    {
     "name": "stdout",
     "output_type": "stream",
     "text": [
      "['brand' 'female' 'male' 'nan' 'unknown']\n",
      "[0 1]\n",
      "(10320, 26)\n"
     ]
    }
   ],
   "source": [
    "# DROP NON MALE / FEMALE\n",
    "genders = list(train.gender)\n",
    "print(np.unique(genders))\n",
    "train_drop = train[train.gender.notnull()]\n",
    "train_drop = train_drop[train_drop.gender != 'brand']\n",
    "train_drop = train_drop[train_drop.gender != 'unknown']\n",
    "train_drop.loc[train_drop.gender == 'female', 'gender'] = 0 \n",
    "train_drop.loc[train_drop.gender == 'male', 'gender'] = 1 \n",
    "train_drop.shape\n",
    "genders = list(train_drop.gender)\n",
    "train = train_drop\n",
    "print(np.unique(genders))\n",
    "print(train_drop.shape)"
   ]
  },
  {
   "cell_type": "code",
   "execution_count": 4,
   "metadata": {
    "collapsed": true
   },
   "outputs": [],
   "source": [
    "# CHANGE ACCOUNT CREATION DATE TO TIME SINCE CREATION\n",
    "import datetime\n",
    "def get_length(s):\n",
    "    year = s.split('/')[2]\n",
    "    month = s.split('/')[0]\n",
    "    day = s.split('/')[1]\n",
    "    return datetime.date(17, 10, 1) - datetime.date(int(year), int(month), int(day))\n",
    "created = train.created\n",
    "created = [el.split()[0] for el in created]\n",
    "c = [get_length(s) for s in created]\n",
    "months = [el.days/30 for el in c]\n",
    "train.created = months"
   ]
  },
  {
   "cell_type": "code",
   "execution_count": 5,
   "metadata": {
    "collapsed": true
   },
   "outputs": [],
   "source": [
    "# Validation Set\n",
    "np.random.seed(1)\n",
    "msk = np.random.rand(len(train)) < 0.8\n",
    "validation = train[~msk]\n",
    "train = train[msk]\n"
   ]
  },
  {
   "cell_type": "markdown",
   "metadata": {},
   "source": [
    "# Featurization"
   ]
  },
  {
   "cell_type": "markdown",
   "metadata": {},
   "source": [
    "# Adding in the categorical variables"
   ]
  },
  {
   "cell_type": "code",
   "execution_count": 6,
   "metadata": {
    "collapsed": true
   },
   "outputs": [],
   "source": [
    "X_train = train.filter(['created',  'fav_number'],axis=1)\n",
    "y_train = list(train.gender)\n",
    "\n",
    "X_val = validation.filter(['created',  'fav_number'],axis=1)\n",
    "y_val = list(validation.gender)\n",
    "\n",
    "X_train.reset_index(drop=True, inplace=True)\n",
    "X_val.reset_index(drop=True, inplace=True)"
   ]
  },
  {
   "cell_type": "code",
   "execution_count": 7,
   "metadata": {},
   "outputs": [
    {
     "name": "stdout",
     "output_type": "stream",
     "text": [
      "(8297, 2) (8297, 342) (8297, 1733)\n",
      "(2023, 2) (2023, 342) (2023, 1733)\n",
      "(8297, 2077)\n",
      "(2023, 2077)\n"
     ]
    }
   ],
   "source": [
    "categories = np.union1d(train.sidebar_color, validation.sidebar_color)\n",
    "train_side = train.sidebar_color.astype('category', categories=categories)\n",
    "val_side = validation.sidebar_color.astype('category', categories=categories)\n",
    "\n",
    "sidebar_color = pd.get_dummies(train_side)\n",
    "sidebar_color_val = pd.get_dummies(val_side)\n",
    "\n",
    "categories = np.union1d(train.link_color, validation.link_color)\n",
    "train_link = train.link_color.astype('category', categories=categories)\n",
    "val_link = validation.link_color.astype('category', categories=categories)\n",
    "\n",
    "dummies_link = pd.get_dummies(train_link)\n",
    "dummies_link_val = pd.get_dummies(val_link)\n",
    "\n",
    "print(X_train.shape, sidebar_color.shape, dummies_link.shape)\n",
    "print(X_val.shape, sidebar_color_val.shape, dummies_link_val.shape)\n",
    "\n",
    "X_train.reset_index(drop=True, inplace=True)\n",
    "X_val.reset_index(drop=True, inplace=True)\n",
    "sidebar_color.reset_index(drop=True, inplace=True)\n",
    "sidebar_color_val.reset_index(drop=True, inplace=True)\n",
    "dummies_link.reset_index(drop=True, inplace=True)\n",
    "dummies_link_val.reset_index(drop=True, inplace=True)\n",
    "\n",
    "X_train = pd.concat([X_train, sidebar_color, dummies_link],axis=1, ignore_index=True)\n",
    "X_val = pd.concat([X_val, sidebar_color_val, dummies_link_val],axis=1, ignore_index=True)\n",
    "\n",
    "print(X_train.shape)\n",
    "print(X_val.shape)"
   ]
  },
  {
   "cell_type": "markdown",
   "metadata": {},
   "source": [
    "# Adding Text based features"
   ]
  },
  {
   "cell_type": "code",
   "execution_count": 8,
   "metadata": {},
   "outputs": [
    {
     "data": {
      "text/plain": [
       "(8297, 2137)"
      ]
     },
     "execution_count": 8,
     "metadata": {},
     "output_type": "execute_result"
    }
   ],
   "source": [
    "import sklearn.feature_extraction\n",
    "tdidf = sklearn.feature_extraction.text.TfidfVectorizer()\n",
    "tdidf.max_features = 60\n",
    "texts = list(df.text)\n",
    "tdidf.fit(texts)\n",
    "texts_train = tdidf.fit_transform(train.text)\n",
    "texts_val = tdidf.fit_transform(validation.text)\n",
    "tdidf_train = pd.DataFrame(texts_train.toarray(), columns=tdidf.get_feature_names())\n",
    "tdidf_val = pd.DataFrame(texts_val.toarray(), columns=tdidf.get_feature_names())\n",
    "\n",
    "\n",
    "X_train.reset_index(drop=True, inplace=True)\n",
    "tdidf_train.reset_index(drop=True, inplace=True)\n",
    "X_val.reset_index(drop=True, inplace=True)\n",
    "tdidf_val.reset_index(drop=True, inplace=True)\n",
    "\n",
    "X_train = pd.concat([X_train, tdidf_train],axis=1, ignore_index=True)\n",
    "X_val = pd.concat([X_val, tdidf_val],axis=1, ignore_index=True)\n",
    "\n",
    "X_train.shape"
   ]
  },
  {
   "cell_type": "markdown",
   "metadata": {},
   "source": [
    "# Adding Username Features"
   ]
  },
  {
   "cell_type": "code",
   "execution_count": 9,
   "metadata": {
    "collapsed": true
   },
   "outputs": [],
   "source": [
    "def n_grams(s):\n",
    "    left = 0\n",
    "    right = 0 + 5\n",
    "    r = []\n",
    "    while right < len(s):\n",
    "        r.append(s[left:right])\n",
    "        left += 1\n",
    "        right += 1\n",
    "    return \" \".join(r)"
   ]
  },
  {
   "cell_type": "code",
   "execution_count": 10,
   "metadata": {},
   "outputs": [
    {
     "data": {
      "text/plain": [
       "(8297, 2237)"
      ]
     },
     "execution_count": 10,
     "metadata": {},
     "output_type": "execute_result"
    }
   ],
   "source": [
    "import sklearn.feature_extraction\n",
    "tdidf = sklearn.feature_extraction.text.TfidfVectorizer()\n",
    "tdidf.max_features = 100\n",
    "names = [n_grams(s) for s in list(df.name)]\n",
    "tdidf.fit(names)\n",
    "names_train = tdidf.fit_transform([n_grams(s) for s in train.name])\n",
    "names_val = tdidf.fit_transform([n_grams(s) for s in validation.name])\n",
    "tdidf_train = pd.DataFrame(names_train.toarray(), columns=tdidf.get_feature_names())\n",
    "tdidf_val = pd.DataFrame(names_val.toarray(), columns=tdidf.get_feature_names())\n",
    "\n",
    "\n",
    "X_train.reset_index(drop=True, inplace=True)\n",
    "tdidf_train.reset_index(drop=True, inplace=True)\n",
    "X_val.reset_index(drop=True, inplace=True)\n",
    "tdidf_val.reset_index(drop=True, inplace=True)\n",
    "\n",
    "X_train = pd.concat([X_train, tdidf_train],axis=1, ignore_index=True)\n",
    "X_val = pd.concat([X_val, tdidf_val],axis=1, ignore_index=True)\n",
    "\n",
    "X_train.shape"
   ]
  },
  {
   "cell_type": "markdown",
   "metadata": {},
   "source": [
    "# Predicting"
   ]
  },
  {
   "cell_type": "code",
   "execution_count": 11,
   "metadata": {
    "collapsed": true
   },
   "outputs": [],
   "source": [
    "y_train = train.filter(['tweet_count'])\n",
    "y_val = validation.filter(['tweet_count'])"
   ]
  },
  {
   "cell_type": "code",
   "execution_count": 30,
   "metadata": {},
   "outputs": [
    {
     "name": "stdout",
     "output_type": "stream",
     "text": [
      "0.0908441673219\n",
      "6459908217.66\n",
      "6872329920.71\n"
     ]
    }
   ],
   "source": [
    "import sklearn.linear_model\n",
    "import sklearn.metrics\n",
    "third = sklearn.linear_model.Ridge(alpha=100)\n",
    "third.fit(X_train,y_train)\n",
    "\n",
    "print(third.score(X_train,y_train))\n",
    "\n",
    "scores = third.predict(X_val)\n",
    "\n",
    "print (sklearn.metrics.mean_squared_error(y_val, scores))\n",
    "print (sklearn.metrics.mean_squared_error(y_val, [np.mean(y_val) for i in range(len(y_val))]))"
   ]
  },
  {
   "cell_type": "markdown",
   "metadata": {},
   "source": [
    "# Result\n",
    "\n",
    "Unfortunately, we found that the mean squared error was very high, close to the prediction acheived by simply predicting the sample mean. We expected the length that the account has beeen active for to be indicative of the number of tweets, but they turned out to have a very small correlation. In fact the final R^2 value is .09, even with a large amount of regularization and Ridge regression"
   ]
  },
  {
   "cell_type": "code",
   "execution_count": null,
   "metadata": {
    "collapsed": true
   },
   "outputs": [],
   "source": []
  }
 ],
 "metadata": {
  "kernelspec": {
   "display_name": "Python 3",
   "language": "python",
   "name": "python3"
  },
  "language_info": {
   "codemirror_mode": {
    "name": "ipython",
    "version": 3
   },
   "file_extension": ".py",
   "mimetype": "text/x-python",
   "name": "python",
   "nbconvert_exporter": "python",
   "pygments_lexer": "ipython3",
   "version": "3.6.1"
  }
 },
 "nbformat": 4,
 "nbformat_minor": 2
}
