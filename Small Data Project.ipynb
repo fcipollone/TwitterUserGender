{
 "cells": [
  {
   "cell_type": "code",
   "execution_count": 18,
   "metadata": {
    "collapsed": true
   },
   "outputs": [],
   "source": [
    "import pandas as pd\n",
    "import numpy as np"
   ]
  },
  {
   "cell_type": "code",
   "execution_count": 33,
   "metadata": {},
   "outputs": [
    {
     "data": {
      "text/plain": [
       "Index(['_unit_id', '_golden', '_unit_state', '_trusted_judgments',\n",
       "       '_last_judgment_at', 'gender', 'gender:confidence', 'profile_yn',\n",
       "       'profile_yn:confidence', 'created', 'description', 'fav_number',\n",
       "       'gender_gold', 'link_color', 'name', 'profile_yn_gold', 'profileimage',\n",
       "       'retweet_count', 'sidebar_color', 'text', 'tweet_coord', 'tweet_count',\n",
       "       'tweet_created', 'tweet_id', 'tweet_location', 'user_timezone'],\n",
       "      dtype='object')"
      ]
     },
     "execution_count": 33,
     "metadata": {},
     "output_type": "execute_result"
    }
   ],
   "source": [
    "df = pd.read_csv('gender-classifier-DFE-791531.csv', sep=',',encoding='latin-1')\n",
    "\n",
    "np.random.seed(0)\n",
    "msk = np.random.rand(len(df)) < 0.8\n",
    "train = df[msk]\n",
    "test = df[~msk]\n",
    "\n",
    "train.columns\n",
    "# created\n",
    "# description\n",
    "# fav_number\n",
    "# link_color? \n",
    "# name\n",
    "# profileimage\n",
    "# sidebar_color\n",
    "# text\n",
    "# tweet_count"
   ]
  },
  {
   "cell_type": "code",
   "execution_count": null,
   "metadata": {},
   "outputs": [],
   "source": []
  },
  {
   "cell_type": "markdown",
   "metadata": {},
   "source": [
    "# Data Transformations"
   ]
  },
  {
   "cell_type": "code",
   "execution_count": 20,
   "metadata": {},
   "outputs": [
    {
     "name": "stdout",
     "output_type": "stream",
     "text": [
      "['brand' 'female' 'male' 'nan' 'unknown']\n",
      "['female' 'male']\n",
      "(10320, 26)\n"
     ]
    }
   ],
   "source": [
    "# DROP NON MALE / FEMALE\n",
    "genders = list(train.gender)\n",
    "print(np.unique(genders))\n",
    "train_drop = train[train.gender.notnull()]\n",
    "train_drop = train_drop[train_drop.gender != 'brand']\n",
    "train_drop = train_drop[train_drop.gender != 'unknown']\n",
    "train_drop.shape\n",
    "genders = list(train_drop.gender)\n",
    "train = train_drop\n",
    "print(np.unique(genders))\n",
    "print(train_drop.shape)"
   ]
  },
  {
   "cell_type": "code",
   "execution_count": 21,
   "metadata": {},
   "outputs": [],
   "source": [
    "# CHANGE ACCOUNT CREATION DATE TO TIME SINCE CREATION\n",
    "import datetime\n",
    "def get_length(s):\n",
    "    year = s.split('/')[2]\n",
    "    month = s.split('/')[0]\n",
    "    day = s.split('/')[1]\n",
    "    return datetime.date(17, 10, 1) - datetime.date(int(year), int(month), int(day))\n",
    "created = train.created\n",
    "created = [el.split()[0] for el in created]\n",
    "c = [get_length(s) for s in created]\n",
    "months = [el.days/30 for el in c]\n",
    "train.created = months"
   ]
  },
  {
   "cell_type": "code",
   "execution_count": null,
   "metadata": {
    "collapsed": true
   },
   "outputs": [],
   "source": []
  },
  {
   "cell_type": "code",
   "execution_count": null,
   "metadata": {},
   "outputs": [],
   "source": []
  },
  {
   "cell_type": "code",
   "execution_count": null,
   "metadata": {},
   "outputs": [],
   "source": []
  },
  {
   "cell_type": "code",
   "execution_count": 11,
   "metadata": {
    "collapsed": true
   },
   "outputs": [],
   "source": [
    "texts = list(train.text)\n",
    "genders = list(train.gender)"
   ]
  },
  {
   "cell_type": "code",
   "execution_count": 12,
   "metadata": {},
   "outputs": [
    {
     "name": "stdout",
     "output_type": "stream",
     "text": [
      "10320 10320\n"
     ]
    }
   ],
   "source": [
    "print (len(texts), len(genders))"
   ]
  },
  {
   "cell_type": "code",
   "execution_count": 5,
   "metadata": {
    "collapsed": true
   },
   "outputs": [],
   "source": [
    "words = {}\n",
    "for i in range(len(texts)):\n",
    "    for word in texts[i].split():\n",
    "        word = word.lower()\n",
    "        if word not in words:\n",
    "            words[word] = {'male':0, 'female':0}\n",
    "        if genders[i] == 'male':\n",
    "            words[word]['male'] += 1\n",
    "        elif genders[i] == 'female':\n",
    "            words[word]['female'] += 1\n"
   ]
  },
  {
   "cell_type": "code",
   "execution_count": 6,
   "metadata": {
    "collapsed": true
   },
   "outputs": [],
   "source": [
    "for key in words.keys():\n",
    "    words[key]['ratio'] = (words[key]['male']+1)/(words[key]['male']+words[key]['female']+1)\n",
    "    words[key]['total'] = words[key]['male']+words[key]['female']"
   ]
  },
  {
   "cell_type": "code",
   "execution_count": 7,
   "metadata": {
    "collapsed": true
   },
   "outputs": [],
   "source": [
    "biggest_words = [(words[key]['ratio'],key) for key in words.keys() if words[key]['total'] > 30]"
   ]
  },
  {
   "cell_type": "code",
   "execution_count": 8,
   "metadata": {},
   "outputs": [
    {
     "data": {
      "text/plain": [
       "[(0.16161616161616163, '#pushawardslizquens'),\n",
       " (0.16326530612244897, 'forevermore'),\n",
       " (0.18181818181818182, 'bed'),\n",
       " (0.18181818181818182, 'mom'),\n",
       " (0.1839080459770115, 'everydayiloveyou'),\n",
       " (0.1896551724137931, 'literally'),\n",
       " (0.21311475409836064, 'family'),\n",
       " (0.25, 'hair'),\n",
       " (0.2571428571428571, 'room'),\n",
       " (0.25862068965517243, '#artistoftheyear'),\n",
       " (0.2608695652173913, '_ù÷_'),\n",
       " (0.2641509433962264, 'favorite!'),\n",
       " (0.2647058823529412, 'together'),\n",
       " (0.26973684210526316, 'makes'),\n",
       " (0.27906976744186046, 'meet'),\n",
       " (0.28, 'girl'),\n",
       " (0.28205128205128205, 'sad'),\n",
       " (0.2857142857142857, 'fall'),\n",
       " (0.29411764705882354, 'movie'),\n",
       " (0.29411764705882354, 'voted')]"
      ]
     },
     "execution_count": 8,
     "metadata": {},
     "output_type": "execute_result"
    }
   ],
   "source": [
    "sorted(biggest_words)[:20]"
   ]
  },
  {
   "cell_type": "code",
   "execution_count": null,
   "metadata": {
    "collapsed": true
   },
   "outputs": [],
   "source": []
  },
  {
   "cell_type": "code",
   "execution_count": 9,
   "metadata": {},
   "outputs": [
    {
     "name": "stdout",
     "output_type": "stream",
     "text": [
      "4951\n"
     ]
    }
   ],
   "source": [
    "total = 0\n",
    "for gender in genders:\n",
    "    if gender == 'male':\n",
    "        total += 1\n",
    "print (total)"
   ]
  },
  {
   "cell_type": "code",
   "execution_count": 10,
   "metadata": {},
   "outputs": [
    {
     "name": "stdout",
     "output_type": "stream",
     "text": [
      "5369\n"
     ]
    }
   ],
   "source": [
    "total = 0\n",
    "for gender in genders:\n",
    "    if gender == 'female':\n",
    "        total += 1\n",
    "print (total)"
   ]
  },
  {
   "cell_type": "code",
   "execution_count": 11,
   "metadata": {},
   "outputs": [
    {
     "name": "stdout",
     "output_type": "stream",
     "text": [
      "4767\n"
     ]
    }
   ],
   "source": [
    "total = 0\n",
    "for gender in genders:\n",
    "    if gender == 'brand':\n",
    "        total += 1\n",
    "print (total)"
   ]
  },
  {
   "cell_type": "code",
   "execution_count": 12,
   "metadata": {
    "collapsed": true
   },
   "outputs": [],
   "source": [
    "fav_numbers = train.fav_number\n",
    "tweet_created = train.tweet_created\n",
    "tweet_count = train.tweet_count\n",
    "created = train.created"
   ]
  },
  {
   "cell_type": "code",
   "execution_count": null,
   "metadata": {
    "collapsed": true
   },
   "outputs": [],
   "source": [
    "created = train.created\n",
    "created = [el.split()[0] for el in created]"
   ]
  },
  {
   "cell_type": "code",
   "execution_count": 13,
   "metadata": {},
   "outputs": [
    {
     "data": {
      "text/plain": [
       "'12/5/13'"
      ]
     },
     "execution_count": 13,
     "metadata": {},
     "output_type": "execute_result"
    }
   ],
   "source": []
  },
  {
   "cell_type": "code",
   "execution_count": 14,
   "metadata": {
    "collapsed": true
   },
   "outputs": [],
   "source": [
    "import datetime\n",
    "def get_length(s):\n",
    "    year = s.split('/')[2]\n",
    "    month = s.split('/')[0]\n",
    "    day = s.split('/')[1]\n",
    "    return datetime.date(17, 10, 1) - datetime.date(int(year), int(month), int(day))\n"
   ]
  },
  {
   "cell_type": "code",
   "execution_count": 15,
   "metadata": {
    "collapsed": true
   },
   "outputs": [],
   "source": []
  },
  {
   "cell_type": "code",
   "execution_count": 16,
   "metadata": {
    "collapsed": true
   },
   "outputs": [],
   "source": [
    "c = [get_length(s) for s in created]\n",
    "months = [el.days/30 for el in c]"
   ]
  },
  {
   "cell_type": "code",
   "execution_count": 17,
   "metadata": {
    "collapsed": true
   },
   "outputs": [],
   "source": [
    "%matplotlib inline\n",
    "import matplotlib.pyplot as plt"
   ]
  },
  {
   "cell_type": "code",
   "execution_count": 18,
   "metadata": {
    "collapsed": true
   },
   "outputs": [],
   "source": [
    "correlated_pot = np.array([fav_numbers, months, tweet_count])"
   ]
  },
  {
   "cell_type": "code",
   "execution_count": 19,
   "metadata": {},
   "outputs": [
    {
     "data": {
      "text/plain": [
       "(3, 16054)"
      ]
     },
     "execution_count": 19,
     "metadata": {},
     "output_type": "execute_result"
    }
   ],
   "source": [
    "np.shape(correlated_pot)"
   ]
  },
  {
   "cell_type": "code",
   "execution_count": 20,
   "metadata": {},
   "outputs": [
    {
     "data": {
      "text/plain": [
       "array([[ 1.        ,  0.06233283,  0.06626339],\n",
       "       [ 0.06233283,  1.        ,  0.08133869],\n",
       "       [ 0.06626339,  0.08133869,  1.        ]])"
      ]
     },
     "execution_count": 20,
     "metadata": {},
     "output_type": "execute_result"
    }
   ],
   "source": [
    "np.corrcoef(correlated_pot)"
   ]
  },
  {
   "cell_type": "code",
   "execution_count": null,
   "metadata": {
    "collapsed": true
   },
   "outputs": [],
   "source": []
  }
 ],
 "metadata": {
  "kernelspec": {
   "display_name": "Python 3",
   "language": "python",
   "name": "python3"
  },
  "language_info": {
   "codemirror_mode": {
    "name": "ipython",
    "version": 3
   },
   "file_extension": ".py",
   "mimetype": "text/x-python",
   "name": "python",
   "nbconvert_exporter": "python",
   "pygments_lexer": "ipython3",
   "version": "3.6.1"
  }
 },
 "nbformat": 4,
 "nbformat_minor": 2
}
